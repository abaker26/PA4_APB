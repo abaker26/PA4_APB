{
 "cells": [
  {
   "cell_type": "markdown",
   "id": "bf5400f3-5e74-4ef1-8ec9-321bfd37c840",
   "metadata": {
    "tags": []
   },
   "source": [
    "# Programming Assignment 4\n",
    "---\n",
    "**Author:** Allie Baker  \n",
    "**Version:** 1.0  \n",
    "**Semester:** Spring 2024 \n",
    "\n",
    "This *notebook* contains my solution(s) to **Programming Assignment 4**"
   ]
  },
  {
   "cell_type": "markdown",
   "id": "9784c3d0-eb2b-451f-95bd-4e2819b1f604",
   "metadata": {},
   "source": [
    "### Problem 1 - Swapping List Elements "
   ]
  },
  {
   "cell_type": "code",
   "execution_count": 1,
   "id": "5d72ce6d-823d-44ac-85ba-5f88be32420e",
   "metadata": {
    "tags": []
   },
   "outputs": [
    {
     "name": "stdout",
     "output_type": "stream",
     "text": [
      "Original List: [77, 63, 42, 100, 8, 75, 57, 84, 81, 37]\n",
      "List with first and last elements swapped: [37, 63, 42, 100, 8, 75, 57, 84, 81, 77]\n"
     ]
    }
   ],
   "source": [
    "import random\n",
    "\n",
    "def swap_first_last(lst):\n",
    "    if len(lst) < 2:\n",
    "        return lst\n",
    "    else:\n",
    "        lst_copy = lst[:]\n",
    "        lst_copy[0], lst_copy[-1] = lst_copy[-1], lst_copy[0]\n",
    "        return lst_copy\n",
    "\n",
    "random_list = [random.randint(1, 100) for _ in range(10)]\n",
    "\n",
    "print(\"Original List:\", random_list)\n",
    "print(\"List with first and last elements swapped:\", swap_first_last(random_list))\n"
   ]
  },
  {
   "cell_type": "markdown",
   "id": "5412df98-ea16-4955-b448-c2f80937af1f",
   "metadata": {},
   "source": [
    "### Problem 2 - Encoding Data "
   ]
  },
  {
   "cell_type": "code",
   "execution_count": 3,
   "id": "5e282e39-884d-4802-8f46-8fe662d379a4",
   "metadata": {
    "tags": []
   },
   "outputs": [
    {
     "name": "stdout",
     "output_type": "stream",
     "text": [
      "Original List: [93, 71, 26, 66, 93, 73, 63, 37, 12, 99]\n",
      "Encoded List: [-1, -1, 1, 1, -1, -1, -1, -1, 1, -1]\n"
     ]
    }
   ],
   "source": [
    "import random\n",
    "\n",
    "def encode(lst):\n",
    "    return [1 if num % 2 == 0 else -1 for num in lst]\n",
    "\n",
    "random_list = [random.randint(1, 100) for _ in range(10)]\n",
    "\n",
    "print(\"Original List:\", random_list)\n",
    "print(\"Encoded List:\", encode(random_list))"
   ]
  },
  {
   "cell_type": "markdown",
   "id": "b01543da-a04c-4115-8079-97ddf95dfbd4",
   "metadata": {},
   "source": [
    "### Problem 3 - Rotating Tuples "
   ]
  },
  {
   "cell_type": "code",
   "execution_count": 4,
   "id": "04fd2ec9-7d42-4253-a559-b3ca446a1e6d",
   "metadata": {
    "tags": []
   },
   "outputs": [
    {
     "name": "stdout",
     "output_type": "stream",
     "text": [
      "Original Tuple: ('Allie', 'Baker', 20)\n",
      "Rotated Tuple: (20, 'Allie', 'Baker')\n"
     ]
    }
   ],
   "source": [
    "def rotate(tup):\n",
    "    a, b, c = tup\n",
    "    rotated_tuple = (c, a, b)\n",
    "    return rotated_tuple\n",
    "\n",
    "original_tuple = ('Allie', 'Baker', 20)\n",
    "rotated_tuple = rotate(original_tuple)\n",
    "print(\"Original Tuple:\", original_tuple)\n",
    "print(\"Rotated Tuple:\", rotated_tuple)\n"
   ]
  },
  {
   "cell_type": "markdown",
   "id": "38811fc7-a94e-4f6a-94d4-80590d4fa1f9",
   "metadata": {},
   "source": [
    "### Problem 4 - Creating a List of Tuples"
   ]
  },
  {
   "cell_type": "code",
   "execution_count": 5,
   "id": "c7abd7d8-5ba2-474a-aea9-0aaa127b6961",
   "metadata": {
    "tags": []
   },
   "outputs": [
    {
     "name": "stdout",
     "output_type": "stream",
     "text": [
      "('William', 'McKinley', 25)\n",
      "('Theodore', 'Roosevelt', 26)\n",
      "('William', 'Taft', 27)\n",
      "('Woodrow', 'Wilson', 28)\n",
      "('Warren', 'Harding', 29)\n",
      "('Calvin', 'Coolidge', 30)\n",
      "('Herbert', 'Hoover', 31)\n",
      "('Franklin', 'Roosevelt', 32)\n",
      "('Harry', 'Truman', 33)\n",
      "('Dwight', 'Eisenhower', 34)\n",
      "('John', 'Kennedy', 35)\n",
      "('Lyndon', 'Johnson', 36)\n",
      "('Richard', 'Nixon', 37)\n",
      "('Gerald', 'Ford', 38)\n",
      "('James', 'Carter', 39)\n",
      "('Ronald', 'Reagan', 40)\n",
      "('George', 'Bush', 41)\n",
      "('William', 'Clinton', 42)\n"
     ]
    }
   ],
   "source": [
    "def combine_lists(first_names, last_names, numbers):\n",
    "    combined_list = []\n",
    "    for first, last, number in zip(first_names, last_names, numbers):\n",
    "        combined_list.append((first, last, number))\n",
    "    return combined_list\n",
    "\n",
    "first_names = [\"William\", \"Theodore\", \"William\", \"Woodrow\", \"Warren\", \"Calvin\", \"Herbert\", \"Franklin\", \"Harry\", \"Dwight\", \"John\", \"Lyndon\", \"Richard\", \"Gerald\", \"James\", \"Ronald\", \"George\", \"William\"]\n",
    "\n",
    "last_names = [\"McKinley\", \"Roosevelt\", \"Taft\", \"Wilson\", \"Harding\", \"Coolidge\", \"Hoover\", \"Roosevelt\", \"Truman\", \"Eisenhower\", \"Kennedy\", \"Johnson\", \"Nixon\", \"Ford\", \"Carter\", \"Reagan\", \"Bush\", \"Clinton\"]\n",
    "\n",
    "numbers = list(range(25, 43))\n",
    "\n",
    "presidents_list = combine_lists(first_names, last_names, numbers)\n",
    "\n",
    "for president in presidents_list:\n",
    "    print(president)\n"
   ]
  },
  {
   "cell_type": "markdown",
   "id": "8d6a2c67-9110-455a-bf6e-b7c6a5365d9b",
   "metadata": {},
   "source": [
    "### Problem 5 - Finding Perfect Numbers "
   ]
  },
  {
   "cell_type": "code",
   "execution_count": 6,
   "id": "bd83318c-6294-4d4e-a24b-5bee2954867d",
   "metadata": {
    "tags": []
   },
   "outputs": [
    {
     "name": "stdout",
     "output_type": "stream",
     "text": [
      "Perfect numbers from 1 to 100: [6, 28]\n"
     ]
    }
   ],
   "source": [
    "def perfect_number(n):\n",
    "    divisor_sum = 0\n",
    "    for i in range(1, n // 2 + 1):\n",
    "        if n % i == 0:\n",
    "            divisor_sum += i\n",
    "    return divisor_sum == n\n",
    "\n",
    "numbers = list(range(1, 101))\n",
    "\n",
    "perfect_numbers = list(filter(perfect_number, numbers))\n",
    "\n",
    "print(\"Perfect numbers from 1 to 100:\", perfect_numbers)\n"
   ]
  },
  {
   "cell_type": "code",
   "execution_count": null,
   "id": "e854408a-bb10-454b-8d4c-6b01539d9f96",
   "metadata": {},
   "outputs": [],
   "source": []
  }
 ],
 "metadata": {
  "kernelspec": {
   "display_name": "Python 3 (ipykernel)",
   "language": "python",
   "name": "python3"
  },
  "language_info": {
   "codemirror_mode": {
    "name": "ipython",
    "version": 3
   },
   "file_extension": ".py",
   "mimetype": "text/x-python",
   "name": "python",
   "nbconvert_exporter": "python",
   "pygments_lexer": "ipython3",
   "version": "3.11.5"
  }
 },
 "nbformat": 4,
 "nbformat_minor": 5
}
